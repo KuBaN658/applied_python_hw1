{
 "cells": [
  {
   "cell_type": "code",
   "execution_count": 1,
   "metadata": {},
   "outputs": [],
   "source": [
    "import pandas as pd\n",
    "import numpy as np\n",
    "\n",
    "\n",
    "# Реальные средние температуры (примерные данные) для городов по сезонам\n",
    "seasonal_temperatures = {\n",
    "    \"New York\": {\"winter\": 0, \"spring\": 10, \"summer\": 25, \"autumn\": 15},\n",
    "    \"London\": {\"winter\": 5, \"spring\": 11, \"summer\": 18, \"autumn\": 12},\n",
    "    \"Paris\": {\"winter\": 4, \"spring\": 12, \"summer\": 20, \"autumn\": 13},\n",
    "    \"Tokyo\": {\"winter\": 6, \"spring\": 15, \"summer\": 27, \"autumn\": 18},\n",
    "    \"Moscow\": {\"winter\": -10, \"spring\": 5, \"summer\": 18, \"autumn\": 8},\n",
    "    \"Sydney\": {\"winter\": 12, \"spring\": 18, \"summer\": 25, \"autumn\": 20},\n",
    "    \"Berlin\": {\"winter\": 0, \"spring\": 10, \"summer\": 20, \"autumn\": 11},\n",
    "    \"Beijing\": {\"winter\": -2, \"spring\": 13, \"summer\": 27, \"autumn\": 16},\n",
    "    \"Rio de Janeiro\": {\"winter\": 20, \"spring\": 25, \"summer\": 30, \"autumn\": 25},\n",
    "    \"Dubai\": {\"winter\": 20, \"spring\": 30, \"summer\": 40, \"autumn\": 30},\n",
    "    \"Los Angeles\": {\"winter\": 15, \"spring\": 18, \"summer\": 25, \"autumn\": 20},\n",
    "    \"Singapore\": {\"winter\": 27, \"spring\": 28, \"summer\": 28, \"autumn\": 27},\n",
    "    \"Mumbai\": {\"winter\": 25, \"spring\": 30, \"summer\": 35, \"autumn\": 30},\n",
    "    \"Cairo\": {\"winter\": 15, \"spring\": 25, \"summer\": 35, \"autumn\": 25},\n",
    "    \"Mexico City\": {\"winter\": 12, \"spring\": 18, \"summer\": 20, \"autumn\": 15},\n",
    "}\n",
    "\n",
    "# Сопоставление месяцев с сезонами\n",
    "month_to_season = {12: \"winter\", 1: \"winter\", 2: \"winter\",\n",
    "                   3: \"spring\", 4: \"spring\", 5: \"spring\",\n",
    "                   6: \"summer\", 7: \"summer\", 8: \"summer\",\n",
    "                   9: \"autumn\", 10: \"autumn\", 11: \"autumn\"}\n",
    "\n",
    "# Генерация данных о температуре\n",
    "def generate_realistic_temperature_data(cities, num_years=100):\n",
    "    dates = pd.date_range(start=\"2010-01-01\", periods=365 * num_years, freq=\"D\")\n",
    "    data = []\n",
    "\n",
    "    for city in cities:\n",
    "        for date in dates:\n",
    "            season = month_to_season[date.month]\n",
    "            mean_temp = seasonal_temperatures[city][season]\n",
    "            # Добавляем случайное отклонение\n",
    "            temperature = np.random.normal(loc=mean_temp, scale=5)\n",
    "            data.append({\"city\": city, \"timestamp\": date, \"temperature\": temperature})\n",
    "\n",
    "    df = pd.DataFrame(data)\n",
    "    df['season'] = df['timestamp'].dt.month.map(lambda x: month_to_season[x])\n",
    "    return df\n",
    "\n",
    "# Генерация данных\n",
    "data = generate_realistic_temperature_data(list(seasonal_temperatures.keys()))"
   ]
  },
  {
   "cell_type": "code",
   "execution_count": 2,
   "metadata": {},
   "outputs": [],
   "source": [
    "import os \n",
    "from dotenv import load_dotenv\n",
    "\n",
    "load_dotenv()\n",
    "\n",
    "API_KEY = os.getenv('API_KEY')"
   ]
  },
  {
   "cell_type": "markdown",
   "metadata": {},
   "source": [
    "Расчитаем среднее и стандартное отклонение группировкой по сезонам и городам и будем их хранить в отдельных переменных."
   ]
  },
  {
   "cell_type": "code",
   "execution_count": 3,
   "metadata": {},
   "outputs": [
    {
     "name": "stdout",
     "output_type": "stream",
     "text": [
      "CPU times: user 50.5 ms, sys: 11 ms, total: 61.5 ms\n",
      "Wall time: 61.2 ms\n"
     ]
    }
   ],
   "source": [
    "%%time\n",
    "stds = data.groupby(['city', 'season'])['temperature'].std()\n",
    "means = data.groupby(['city', 'season'])['temperature'].mean()"
   ]
  },
  {
   "cell_type": "markdown",
   "metadata": {},
   "source": [
    "А теперь расчитаем те же показатели и будем их хранить в исходной таблице."
   ]
  },
  {
   "cell_type": "code",
   "execution_count": 4,
   "metadata": {},
   "outputs": [
    {
     "name": "stdout",
     "output_type": "stream",
     "text": [
      "CPU times: user 49.6 ms, sys: 14 ms, total: 63.6 ms\n",
      "Wall time: 62.7 ms\n"
     ]
    }
   ],
   "source": [
    "%%time\n",
    "data['std'] = data.groupby(\n",
    "        ['city', 'season']\n",
    "        )['temperature'].transform('std')\n",
    "\n",
    "data['mean'] = data.groupby(\n",
    "        ['city', 'season']\n",
    "        )['temperature'].transform('mean')"
   ]
  },
  {
   "cell_type": "markdown",
   "metadata": {},
   "source": [
    "Время вычислений отличается не сильно, но во втором случае мы будем хранить много дубликатов, поэтому используем дополнительную память. \n",
    "Расчитаем скользящее среднее."
   ]
  },
  {
   "cell_type": "code",
   "execution_count": 5,
   "metadata": {},
   "outputs": [],
   "source": [
    "data['moving_average'] = data.groupby(\n",
    "        'city'\n",
    "        )['temperature'].transform(\n",
    "            lambda x: x.rolling(window=30).mean()\n",
    "            )"
   ]
  },
  {
   "cell_type": "markdown",
   "metadata": {},
   "source": [
    "Теперь чтобы рассчитать выбросы нам надо присоеденить таблицу, и нам все равно придется хранить много дубликатов, поэтому будем использовать второй способ расчета стандартного отклонения и среднего."
   ]
  },
  {
   "cell_type": "markdown",
   "metadata": {},
   "source": [
    "Расчитаем выбросы с помощью apply"
   ]
  },
  {
   "cell_type": "code",
   "execution_count": 6,
   "metadata": {},
   "outputs": [],
   "source": [
    "def calc_is_outlier(row):\n",
    "    return int(row['temperature'] > row['mean'] + 2 * row['std']) | (row['temperature'] < row['mean'] - 2 * row['std'])"
   ]
  },
  {
   "cell_type": "code",
   "execution_count": 7,
   "metadata": {},
   "outputs": [
    {
     "name": "stdout",
     "output_type": "stream",
     "text": [
      "CPU times: user 2.98 s, sys: 66.9 ms, total: 3.05 s\n",
      "Wall time: 3.05 s\n"
     ]
    },
    {
     "data": {
      "text/plain": [
       "0         0\n",
       "1         1\n",
       "2         0\n",
       "3         0\n",
       "4         0\n",
       "         ..\n",
       "547495    0\n",
       "547496    0\n",
       "547497    0\n",
       "547498    1\n",
       "547499    0\n",
       "Length: 547500, dtype: int64"
      ]
     },
     "execution_count": 7,
     "metadata": {},
     "output_type": "execute_result"
    }
   ],
   "source": [
    "%%time\n",
    "data.apply(calc_is_outlier, axis=1)"
   ]
  },
  {
   "cell_type": "markdown",
   "metadata": {},
   "source": [
    "Расчеты занимают прилично времени. Посмотрим сколько времени займет векторные вычисления."
   ]
  },
  {
   "cell_type": "code",
   "execution_count": 8,
   "metadata": {},
   "outputs": [
    {
     "name": "stdout",
     "output_type": "stream",
     "text": [
      "CPU times: user 4.13 ms, sys: 40 μs, total: 4.17 ms\n",
      "Wall time: 3.45 ms\n"
     ]
    }
   ],
   "source": [
    "%%time\n",
    "data['is_outlier'] = (\n",
    "    (data['temperature'] > data['mean'] + 2 * data['std']) |\n",
    "    (data['temperature'] < data['mean'] - 2 * data['std'])\n",
    ").astype(int)"
   ]
  },
  {
   "cell_type": "markdown",
   "metadata": {},
   "source": [
    "Мы заметно ускорились с помощью векторных вычислений. Попробуем рапаралелить наши вычисления с помощью библиотеки `multiprocessing`"
   ]
  },
  {
   "cell_type": "code",
   "execution_count": 9,
   "metadata": {},
   "outputs": [],
   "source": [
    "from multiprocessing import Pool\n",
    "\n",
    "def process_chunk(chunk):\n",
    "    chunk['is_outlier'] = (\n",
    "        (chunk['temperature'] > chunk['mean'] + 2 * chunk['std']) |\n",
    "        (chunk['temperature'] < chunk['mean'] - 2 * chunk['std'])\n",
    "    ).astype(int)\n",
    "    \n",
    "    return chunk\n",
    "\n",
    "# Разделение DataFrame на части\n",
    "def parallel_apply(df, func, n_cores=4):\n",
    "    chunk_size = len(df) // n_cores\n",
    "    chunks = [df[i * chunk_size:(i + 1) * chunk_size] for i in range(n_cores)]\n",
    "    with Pool(n_cores) as pool:\n",
    "        results = pool.map(func, chunks)\n",
    "\n",
    "    return pd.concat(results)"
   ]
  },
  {
   "cell_type": "code",
   "execution_count": 10,
   "metadata": {},
   "outputs": [
    {
     "name": "stdout",
     "output_type": "stream",
     "text": [
      "CPU times: user 51.8 ms, sys: 57 ms, total: 109 ms\n",
      "Wall time: 117 ms\n"
     ]
    },
    {
     "data": {
      "text/html": [
       "<div>\n",
       "<style scoped>\n",
       "    .dataframe tbody tr th:only-of-type {\n",
       "        vertical-align: middle;\n",
       "    }\n",
       "\n",
       "    .dataframe tbody tr th {\n",
       "        vertical-align: top;\n",
       "    }\n",
       "\n",
       "    .dataframe thead th {\n",
       "        text-align: right;\n",
       "    }\n",
       "</style>\n",
       "<table border=\"1\" class=\"dataframe\">\n",
       "  <thead>\n",
       "    <tr style=\"text-align: right;\">\n",
       "      <th></th>\n",
       "      <th>city</th>\n",
       "      <th>timestamp</th>\n",
       "      <th>temperature</th>\n",
       "      <th>season</th>\n",
       "      <th>std</th>\n",
       "      <th>mean</th>\n",
       "      <th>moving_average</th>\n",
       "      <th>is_outlier</th>\n",
       "    </tr>\n",
       "  </thead>\n",
       "  <tbody>\n",
       "    <tr>\n",
       "      <th>0</th>\n",
       "      <td>New York</td>\n",
       "      <td>2010-01-01</td>\n",
       "      <td>-3.058695</td>\n",
       "      <td>winter</td>\n",
       "      <td>4.988176</td>\n",
       "      <td>-0.070198</td>\n",
       "      <td>NaN</td>\n",
       "      <td>0</td>\n",
       "    </tr>\n",
       "    <tr>\n",
       "      <th>1</th>\n",
       "      <td>New York</td>\n",
       "      <td>2010-01-02</td>\n",
       "      <td>13.916703</td>\n",
       "      <td>winter</td>\n",
       "      <td>4.988176</td>\n",
       "      <td>-0.070198</td>\n",
       "      <td>NaN</td>\n",
       "      <td>1</td>\n",
       "    </tr>\n",
       "    <tr>\n",
       "      <th>2</th>\n",
       "      <td>New York</td>\n",
       "      <td>2010-01-03</td>\n",
       "      <td>-6.809581</td>\n",
       "      <td>winter</td>\n",
       "      <td>4.988176</td>\n",
       "      <td>-0.070198</td>\n",
       "      <td>NaN</td>\n",
       "      <td>0</td>\n",
       "    </tr>\n",
       "    <tr>\n",
       "      <th>3</th>\n",
       "      <td>New York</td>\n",
       "      <td>2010-01-04</td>\n",
       "      <td>0.838385</td>\n",
       "      <td>winter</td>\n",
       "      <td>4.988176</td>\n",
       "      <td>-0.070198</td>\n",
       "      <td>NaN</td>\n",
       "      <td>0</td>\n",
       "    </tr>\n",
       "    <tr>\n",
       "      <th>4</th>\n",
       "      <td>New York</td>\n",
       "      <td>2010-01-05</td>\n",
       "      <td>0.012133</td>\n",
       "      <td>winter</td>\n",
       "      <td>4.988176</td>\n",
       "      <td>-0.070198</td>\n",
       "      <td>NaN</td>\n",
       "      <td>0</td>\n",
       "    </tr>\n",
       "    <tr>\n",
       "      <th>...</th>\n",
       "      <td>...</td>\n",
       "      <td>...</td>\n",
       "      <td>...</td>\n",
       "      <td>...</td>\n",
       "      <td>...</td>\n",
       "      <td>...</td>\n",
       "      <td>...</td>\n",
       "      <td>...</td>\n",
       "    </tr>\n",
       "    <tr>\n",
       "      <th>547495</th>\n",
       "      <td>Mexico City</td>\n",
       "      <td>2109-12-03</td>\n",
       "      <td>12.126426</td>\n",
       "      <td>winter</td>\n",
       "      <td>5.029781</td>\n",
       "      <td>12.082468</td>\n",
       "      <td>14.424527</td>\n",
       "      <td>0</td>\n",
       "    </tr>\n",
       "    <tr>\n",
       "      <th>547496</th>\n",
       "      <td>Mexico City</td>\n",
       "      <td>2109-12-04</td>\n",
       "      <td>18.281893</td>\n",
       "      <td>winter</td>\n",
       "      <td>5.029781</td>\n",
       "      <td>12.082468</td>\n",
       "      <td>14.332900</td>\n",
       "      <td>0</td>\n",
       "    </tr>\n",
       "    <tr>\n",
       "      <th>547497</th>\n",
       "      <td>Mexico City</td>\n",
       "      <td>2109-12-05</td>\n",
       "      <td>12.867828</td>\n",
       "      <td>winter</td>\n",
       "      <td>5.029781</td>\n",
       "      <td>12.082468</td>\n",
       "      <td>14.264653</td>\n",
       "      <td>0</td>\n",
       "    </tr>\n",
       "    <tr>\n",
       "      <th>547498</th>\n",
       "      <td>Mexico City</td>\n",
       "      <td>2109-12-06</td>\n",
       "      <td>22.260401</td>\n",
       "      <td>winter</td>\n",
       "      <td>5.029781</td>\n",
       "      <td>12.082468</td>\n",
       "      <td>14.354379</td>\n",
       "      <td>1</td>\n",
       "    </tr>\n",
       "    <tr>\n",
       "      <th>547499</th>\n",
       "      <td>Mexico City</td>\n",
       "      <td>2109-12-07</td>\n",
       "      <td>6.872235</td>\n",
       "      <td>winter</td>\n",
       "      <td>5.029781</td>\n",
       "      <td>12.082468</td>\n",
       "      <td>14.158075</td>\n",
       "      <td>0</td>\n",
       "    </tr>\n",
       "  </tbody>\n",
       "</table>\n",
       "<p>547500 rows × 8 columns</p>\n",
       "</div>"
      ],
      "text/plain": [
       "               city  timestamp  temperature  season       std       mean  \\\n",
       "0          New York 2010-01-01    -3.058695  winter  4.988176  -0.070198   \n",
       "1          New York 2010-01-02    13.916703  winter  4.988176  -0.070198   \n",
       "2          New York 2010-01-03    -6.809581  winter  4.988176  -0.070198   \n",
       "3          New York 2010-01-04     0.838385  winter  4.988176  -0.070198   \n",
       "4          New York 2010-01-05     0.012133  winter  4.988176  -0.070198   \n",
       "...             ...        ...          ...     ...       ...        ...   \n",
       "547495  Mexico City 2109-12-03    12.126426  winter  5.029781  12.082468   \n",
       "547496  Mexico City 2109-12-04    18.281893  winter  5.029781  12.082468   \n",
       "547497  Mexico City 2109-12-05    12.867828  winter  5.029781  12.082468   \n",
       "547498  Mexico City 2109-12-06    22.260401  winter  5.029781  12.082468   \n",
       "547499  Mexico City 2109-12-07     6.872235  winter  5.029781  12.082468   \n",
       "\n",
       "        moving_average  is_outlier  \n",
       "0                  NaN           0  \n",
       "1                  NaN           1  \n",
       "2                  NaN           0  \n",
       "3                  NaN           0  \n",
       "4                  NaN           0  \n",
       "...                ...         ...  \n",
       "547495       14.424527           0  \n",
       "547496       14.332900           0  \n",
       "547497       14.264653           0  \n",
       "547498       14.354379           1  \n",
       "547499       14.158075           0  \n",
       "\n",
       "[547500 rows x 8 columns]"
      ]
     },
     "execution_count": 10,
     "metadata": {},
     "output_type": "execute_result"
    }
   ],
   "source": [
    "%%time\n",
    "parallel_apply(data, process_chunk)"
   ]
  },
  {
   "cell_type": "markdown",
   "metadata": {},
   "source": [
    "Вычисления стали занимать намного больше времени. Попробуем библиотеку `modin` для расспаралеливания."
   ]
  },
  {
   "cell_type": "code",
   "execution_count": 11,
   "metadata": {},
   "outputs": [
    {
     "name": "stderr",
     "output_type": "stream",
     "text": [
      "UserWarning: Distributing <class 'pandas.core.frame.DataFrame'> object. This may take some time.\n"
     ]
    }
   ],
   "source": [
    "import modin.pandas as mpd\n",
    "\n",
    "# Преобразование pandas DataFrame в modin DataFrame\n",
    "modin_data = mpd.DataFrame(data)"
   ]
  },
  {
   "cell_type": "code",
   "execution_count": 12,
   "metadata": {},
   "outputs": [
    {
     "name": "stdout",
     "output_type": "stream",
     "text": [
      "CPU times: user 427 ms, sys: 25.3 ms, total: 452 ms\n",
      "Wall time: 505 ms\n"
     ]
    }
   ],
   "source": [
    "%%time\n",
    "modin_data['is_outlier'] = (\n",
    "        (modin_data['temperature'] > modin_data['mean'] + 2 * modin_data['std']) |\n",
    "        (modin_data['temperature'] < modin_data['mean'] - 2 * modin_data['std'])\n",
    "    ).astype(int)"
   ]
  },
  {
   "cell_type": "markdown",
   "metadata": {},
   "source": [
    "До векторных операций pandas далеко."
   ]
  },
  {
   "cell_type": "code",
   "execution_count": 13,
   "metadata": {},
   "outputs": [],
   "source": [
    "import polars as pl\n",
    "\n",
    "# Преобразование pandas DataFrame в polars DataFrame\n",
    "polars_data = pl.from_pandas(data)"
   ]
  },
  {
   "cell_type": "code",
   "execution_count": 14,
   "metadata": {},
   "outputs": [
    {
     "name": "stdout",
     "output_type": "stream",
     "text": [
      "CPU times: user 375 ms, sys: 27 ms, total: 402 ms\n",
      "Wall time: 391 ms\n"
     ]
    }
   ],
   "source": [
    "%%time\n",
    "modin_data['is_outlier'] = (\n",
    "    (polars_data['temperature'] > polars_data['mean'] + 2 * polars_data['std']) | \n",
    "    (polars_data['temperature'] < polars_data['mean'] - 2 * polars_data['std'])\n",
    "    )"
   ]
  },
  {
   "cell_type": "code",
   "execution_count": 15,
   "metadata": {},
   "outputs": [],
   "source": [
    "from joblib import Parallel, delayed\n",
    "\n",
    "def parallel_apply_chunks(df, func, n_jobs=4):\n",
    "    chunks = np.array_split(df, n_jobs)\n",
    "    results = Parallel(n_jobs=n_jobs)(delayed(func)(chunk) for chunk in chunks)\n",
    "    return pd.concat(results)"
   ]
  },
  {
   "cell_type": "code",
   "execution_count": 16,
   "metadata": {},
   "outputs": [
    {
     "name": "stderr",
     "output_type": "stream",
     "text": [
      "FutureWarning: 'DataFrame.swapaxes' is deprecated and will be removed in a future version. Please use 'DataFrame.transpose' instead.\n",
      "RuntimeWarning: Using fork() can cause Polars to deadlock in the child process.\n",
      "In addition, using fork() with Python in general is a recipe for mysterious\n",
      "deadlocks and crashes.\n",
      "\n",
      "The most likely reason you are seeing this error is because you are using the\n",
      "multiprocessing module on Linux, which uses fork() by default. This will be\n",
      "fixed in Python 3.14. Until then, you want to use the \"spawn\" context instead.\n",
      "\n",
      "See https://docs.pola.rs/user-guide/misc/multiprocessing/ for details.\n",
      "\n",
      "If you really know what your doing, you can silence this warning with the warning module\n",
      "or by setting POLARS_ALLOW_FORKING_THREAD=1.\n",
      "\n"
     ]
    },
    {
     "name": "stdout",
     "output_type": "stream",
     "text": [
      "CPU times: user 137 ms, sys: 117 ms, total: 254 ms\n",
      "Wall time: 504 ms\n"
     ]
    },
    {
     "data": {
      "text/html": [
       "<div>\n",
       "<style scoped>\n",
       "    .dataframe tbody tr th:only-of-type {\n",
       "        vertical-align: middle;\n",
       "    }\n",
       "\n",
       "    .dataframe tbody tr th {\n",
       "        vertical-align: top;\n",
       "    }\n",
       "\n",
       "    .dataframe thead th {\n",
       "        text-align: right;\n",
       "    }\n",
       "</style>\n",
       "<table border=\"1\" class=\"dataframe\">\n",
       "  <thead>\n",
       "    <tr style=\"text-align: right;\">\n",
       "      <th></th>\n",
       "      <th>city</th>\n",
       "      <th>timestamp</th>\n",
       "      <th>temperature</th>\n",
       "      <th>season</th>\n",
       "      <th>std</th>\n",
       "      <th>mean</th>\n",
       "      <th>moving_average</th>\n",
       "      <th>is_outlier</th>\n",
       "    </tr>\n",
       "  </thead>\n",
       "  <tbody>\n",
       "    <tr>\n",
       "      <th>0</th>\n",
       "      <td>New York</td>\n",
       "      <td>2010-01-01</td>\n",
       "      <td>-3.058695</td>\n",
       "      <td>winter</td>\n",
       "      <td>4.988176</td>\n",
       "      <td>-0.070198</td>\n",
       "      <td>NaN</td>\n",
       "      <td>0</td>\n",
       "    </tr>\n",
       "    <tr>\n",
       "      <th>1</th>\n",
       "      <td>New York</td>\n",
       "      <td>2010-01-02</td>\n",
       "      <td>13.916703</td>\n",
       "      <td>winter</td>\n",
       "      <td>4.988176</td>\n",
       "      <td>-0.070198</td>\n",
       "      <td>NaN</td>\n",
       "      <td>1</td>\n",
       "    </tr>\n",
       "    <tr>\n",
       "      <th>2</th>\n",
       "      <td>New York</td>\n",
       "      <td>2010-01-03</td>\n",
       "      <td>-6.809581</td>\n",
       "      <td>winter</td>\n",
       "      <td>4.988176</td>\n",
       "      <td>-0.070198</td>\n",
       "      <td>NaN</td>\n",
       "      <td>0</td>\n",
       "    </tr>\n",
       "    <tr>\n",
       "      <th>3</th>\n",
       "      <td>New York</td>\n",
       "      <td>2010-01-04</td>\n",
       "      <td>0.838385</td>\n",
       "      <td>winter</td>\n",
       "      <td>4.988176</td>\n",
       "      <td>-0.070198</td>\n",
       "      <td>NaN</td>\n",
       "      <td>0</td>\n",
       "    </tr>\n",
       "    <tr>\n",
       "      <th>4</th>\n",
       "      <td>New York</td>\n",
       "      <td>2010-01-05</td>\n",
       "      <td>0.012133</td>\n",
       "      <td>winter</td>\n",
       "      <td>4.988176</td>\n",
       "      <td>-0.070198</td>\n",
       "      <td>NaN</td>\n",
       "      <td>0</td>\n",
       "    </tr>\n",
       "    <tr>\n",
       "      <th>...</th>\n",
       "      <td>...</td>\n",
       "      <td>...</td>\n",
       "      <td>...</td>\n",
       "      <td>...</td>\n",
       "      <td>...</td>\n",
       "      <td>...</td>\n",
       "      <td>...</td>\n",
       "      <td>...</td>\n",
       "    </tr>\n",
       "    <tr>\n",
       "      <th>547495</th>\n",
       "      <td>Mexico City</td>\n",
       "      <td>2109-12-03</td>\n",
       "      <td>12.126426</td>\n",
       "      <td>winter</td>\n",
       "      <td>5.029781</td>\n",
       "      <td>12.082468</td>\n",
       "      <td>14.424527</td>\n",
       "      <td>0</td>\n",
       "    </tr>\n",
       "    <tr>\n",
       "      <th>547496</th>\n",
       "      <td>Mexico City</td>\n",
       "      <td>2109-12-04</td>\n",
       "      <td>18.281893</td>\n",
       "      <td>winter</td>\n",
       "      <td>5.029781</td>\n",
       "      <td>12.082468</td>\n",
       "      <td>14.332900</td>\n",
       "      <td>0</td>\n",
       "    </tr>\n",
       "    <tr>\n",
       "      <th>547497</th>\n",
       "      <td>Mexico City</td>\n",
       "      <td>2109-12-05</td>\n",
       "      <td>12.867828</td>\n",
       "      <td>winter</td>\n",
       "      <td>5.029781</td>\n",
       "      <td>12.082468</td>\n",
       "      <td>14.264653</td>\n",
       "      <td>0</td>\n",
       "    </tr>\n",
       "    <tr>\n",
       "      <th>547498</th>\n",
       "      <td>Mexico City</td>\n",
       "      <td>2109-12-06</td>\n",
       "      <td>22.260401</td>\n",
       "      <td>winter</td>\n",
       "      <td>5.029781</td>\n",
       "      <td>12.082468</td>\n",
       "      <td>14.354379</td>\n",
       "      <td>1</td>\n",
       "    </tr>\n",
       "    <tr>\n",
       "      <th>547499</th>\n",
       "      <td>Mexico City</td>\n",
       "      <td>2109-12-07</td>\n",
       "      <td>6.872235</td>\n",
       "      <td>winter</td>\n",
       "      <td>5.029781</td>\n",
       "      <td>12.082468</td>\n",
       "      <td>14.158075</td>\n",
       "      <td>0</td>\n",
       "    </tr>\n",
       "  </tbody>\n",
       "</table>\n",
       "<p>547500 rows × 8 columns</p>\n",
       "</div>"
      ],
      "text/plain": [
       "               city  timestamp  temperature  season       std       mean  \\\n",
       "0          New York 2010-01-01    -3.058695  winter  4.988176  -0.070198   \n",
       "1          New York 2010-01-02    13.916703  winter  4.988176  -0.070198   \n",
       "2          New York 2010-01-03    -6.809581  winter  4.988176  -0.070198   \n",
       "3          New York 2010-01-04     0.838385  winter  4.988176  -0.070198   \n",
       "4          New York 2010-01-05     0.012133  winter  4.988176  -0.070198   \n",
       "...             ...        ...          ...     ...       ...        ...   \n",
       "547495  Mexico City 2109-12-03    12.126426  winter  5.029781  12.082468   \n",
       "547496  Mexico City 2109-12-04    18.281893  winter  5.029781  12.082468   \n",
       "547497  Mexico City 2109-12-05    12.867828  winter  5.029781  12.082468   \n",
       "547498  Mexico City 2109-12-06    22.260401  winter  5.029781  12.082468   \n",
       "547499  Mexico City 2109-12-07     6.872235  winter  5.029781  12.082468   \n",
       "\n",
       "        moving_average  is_outlier  \n",
       "0                  NaN           0  \n",
       "1                  NaN           1  \n",
       "2                  NaN           0  \n",
       "3                  NaN           0  \n",
       "4                  NaN           0  \n",
       "...                ...         ...  \n",
       "547495       14.424527           0  \n",
       "547496       14.332900           0  \n",
       "547497       14.264653           0  \n",
       "547498       14.354379           1  \n",
       "547499       14.158075           0  \n",
       "\n",
       "[547500 rows x 8 columns]"
      ]
     },
     "execution_count": 16,
     "metadata": {},
     "output_type": "execute_result"
    }
   ],
   "source": [
    "%%time\n",
    "parallel_apply_chunks(data, process_chunk, n_jobs=3)"
   ]
  },
  {
   "cell_type": "markdown",
   "metadata": {},
   "source": [
    "Расспаралеливание вычислений не привело к сокращению времени обработки данных, векторные операции pandas быстрее."
   ]
  },
  {
   "cell_type": "markdown",
   "metadata": {},
   "source": [
    "Тест ассинхронности."
   ]
  },
  {
   "cell_type": "code",
   "execution_count": 17,
   "metadata": {},
   "outputs": [],
   "source": [
    "import nest_asyncio\n",
    "import httpx\n",
    "import asyncio\n",
    "\n",
    "nest_asyncio.apply()"
   ]
  },
  {
   "cell_type": "code",
   "execution_count": 18,
   "metadata": {},
   "outputs": [],
   "source": [
    "# Ваш API-ключ и настройки\n",
    "base_url = \"https://api.openweathermap.org/data/2.5/weather\"\n",
    "\n",
    "# Выполнение запроса\n",
    "async def get_async_weather(city):\n",
    "    params = {\n",
    "        \"q\": city,\n",
    "        \"appid\": API_KEY,\n",
    "        \"units\": \"metric\",\n",
    "        \"lang\": \"en\"\n",
    "    }\n",
    "    async with httpx.AsyncClient() as client:\n",
    "        response = await client.get(base_url, params=params)\n",
    "        if response.status_code == 200:\n",
    "            data = response.json()\n",
    "        else:\n",
    "            return response.text\n",
    "\n",
    "        return data\n",
    "    \n",
    "# Выполнение запроса\n",
    "def get_sync_weather(city):\n",
    "    params = {\n",
    "        \"q\": city,\n",
    "        \"appid\": API_KEY,\n",
    "        \"units\": \"metric\",\n",
    "        \"lang\": \"en\"\n",
    "    }\n",
    "    with httpx.Client() as client:\n",
    "        response = client.get(base_url, params=params)\n",
    "        if response.status_code == 200:\n",
    "            data = response.json()\n",
    "        else:\n",
    "            return response.text\n",
    "\n",
    "        return data\n",
    "    \n",
    "\n",
    "async def main():\n",
    "    tasks = [asyncio.create_task(get_async_weather(city)) for city in data.city.unique()]\n",
    "    for task in tasks:\n",
    "        await task"
   ]
  },
  {
   "cell_type": "markdown",
   "metadata": {},
   "source": [
    "Посмотрим сколько займет асинхронный вызов, для всех городов, которые есть у нас в данных."
   ]
  },
  {
   "cell_type": "code",
   "execution_count": 19,
   "metadata": {},
   "outputs": [
    {
     "name": "stdout",
     "output_type": "stream",
     "text": [
      "CPU times: user 356 ms, sys: 31.8 ms, total: 388 ms\n",
      "Wall time: 641 ms\n"
     ]
    }
   ],
   "source": [
    "%%time\n",
    "asyncio.run(main())"
   ]
  },
  {
   "cell_type": "markdown",
   "metadata": {},
   "source": [
    "А теперь синхронный"
   ]
  },
  {
   "cell_type": "code",
   "execution_count": 20,
   "metadata": {},
   "outputs": [
    {
     "name": "stdout",
     "output_type": "stream",
     "text": [
      "CPU times: user 894 ms, sys: 106 ms, total: 1 s\n",
      "Wall time: 2.66 s\n"
     ]
    }
   ],
   "source": [
    "%%time\n",
    "for city in data.city.unique():\n",
    "    get_sync_weather(city)"
   ]
  },
  {
   "cell_type": "markdown",
   "metadata": {},
   "source": [
    "Применение асинхронности тут оправдано."
   ]
  }
 ],
 "metadata": {
  "kernelspec": {
   "display_name": ".venv",
   "language": "python",
   "name": "python3"
  },
  "language_info": {
   "codemirror_mode": {
    "name": "ipython",
    "version": 3
   },
   "file_extension": ".py",
   "mimetype": "text/x-python",
   "name": "python",
   "nbconvert_exporter": "python",
   "pygments_lexer": "ipython3",
   "version": "3.12.3"
  }
 },
 "nbformat": 4,
 "nbformat_minor": 2
}
